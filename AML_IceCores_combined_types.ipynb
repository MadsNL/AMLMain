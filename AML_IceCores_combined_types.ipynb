{
  "nbformat": 4,
  "nbformat_minor": 0,
  "metadata": {
    "colab": {
      "name": "AML_IceCores.ipynb",
      "provenance": [],
      "collapsed_sections": [],
      "include_colab_link": true
    },
    "kernelspec": {
      "name": "python3",
      "display_name": "Python 3"
    },
    "language_info": {
      "name": "python"
    },
    "accelerator": "GPU"
  },
  "cells": [
    {
      "cell_type": "markdown",
      "metadata": {
        "id": "view-in-github",
        "colab_type": "text"
      },
      "source": [
        "<a href=\"https://colab.research.google.com/github/MadsNL/AMLMain/blob/Laura/AML_IceCores_combined_types.ipynb\" target=\"_parent\"><img src=\"https://colab.research.google.com/assets/colab-badge.svg\" alt=\"Open In Colab\"/></a>"
      ]
    },
    {
      "cell_type": "code",
      "execution_count": null,
      "metadata": {
        "colab": {
          "base_uri": "https://localhost:8080/"
        },
        "id": "TLKn97U3zWk9",
        "outputId": "a865c218-1920-476d-dd72-6644281ce5e2"
      },
      "outputs": [
        {
          "output_type": "stream",
          "name": "stdout",
          "text": [
            "/usr/local/lib/python3.7/dist-packages/gdown/cli.py:131: FutureWarning: Option `--id` was deprecated in version 4.3.1 and will be removed in 5.0. You don't need to pass it anymore to use a file ID.\n",
            "  category=FutureWarning,\n",
            "Downloading...\n",
            "From: https://drive.google.com/uc?id=1paSsYReykEVDPX8pA2SUf7Gr7Lptq-PX\n",
            "To: /content/Insoluables_TrainingData26May2022.zip\n",
            "100% 726M/726M [00:03<00:00, 202MB/s]\n",
            "Archive:  Insoluables_TrainingData26May2022.zip\n",
            "replace Insoluables_TrainingData/train/camp.csv? [y]es, [n]o, [A]ll, [N]one, [r]ename: "
          ]
        }
      ],
      "source": [
        "! gdown --id 1paSsYReykEVDPX8pA2SUf7Gr7Lptq-PX\n",
        "! unzip Insoluables_TrainingData26May2022.zip\n",
        "!git clone https://github.com/MadsNL/AMLpackages.git\n",
        "import sys\n",
        "sys.path.append('/content/AMLpackages/')\n",
        "from load_data import training_set, not_training_set\n",
        "!pip install pyyaml h5py \n",
        "!pip install umap-learn"
      ]
    },
    {
      "cell_type": "code",
      "source": [
        "import numpy as np\n",
        "import pandas as pd\n",
        "import matplotlib.pyplot as plt\n",
        "import tensorflow as tf\n",
        "from tensorflow import keras\n",
        "import umap\n",
        "import seaborn as sb\n",
        "import lightgbm as lgb"
      ],
      "metadata": {
        "id": "0aQtj54L4bV7"
      },
      "execution_count": null,
      "outputs": []
    },
    {
      "cell_type": "code",
      "source": [
        "sup_path = '/content/Insoluables_TrainingData/train/'\n",
        "sup_im_path = '/content/Insoluables_TrainingData/train/'\n",
        "sup_df = pd.read_csv(sup_path+'train.csv')\n",
        "sup = training_set(sup_df, sup_im_path)"
      ],
      "metadata": {
        "id": "kG7zJeA04n1J"
      },
      "execution_count": null,
      "outputs": []
    },
    {
      "cell_type": "code",
      "source": [
        "# save image_size\n",
        "im_e, _, _ = sup.__getitem__(0)\n",
        "image_size = im_e.shape[0]\n",
        "image_size"
      ],
      "metadata": {
        "id": "m0qYzXkF4gSf"
      },
      "execution_count": null,
      "outputs": []
    },
    {
      "cell_type": "code",
      "source": [
        "# create encoder training\n",
        "nr_tot_images = len(sup.labels)\n",
        "x_train = []\n",
        "x_train_lab = []\n",
        "x_train_feats = []\n",
        "nr_ims = 10000 # 10-15k images are the max we can load with the memory we have\n",
        "rand_idx = np.arange(0,nr_tot_images)\n",
        "rand_idx = np.random.choice(rand_idx, replace=False, size=nr_ims)\n",
        "for i in range(nr_ims):\n",
        "    im, lab, feat = sup.__getitem__(rand_idx[i])\n",
        "    x_train.append(im)\n",
        "    x_train_lab.append(lab)\n",
        "    x_train_feats.append(feat)\n",
        "x_train = np.array(x_train)\n",
        "x_train_lab = np.array(x_train_lab)\n",
        "x_train_feats = np.array(x_train_feats)"
      ],
      "metadata": {
        "id": "1apsJvE04iF3"
      },
      "execution_count": null,
      "outputs": []
    },
    {
      "cell_type": "code",
      "source": [
        "x_train.shape"
      ],
      "metadata": {
        "id": "4spSI7YJ4jRC"
      },
      "execution_count": null,
      "outputs": []
    },
    {
      "cell_type": "code",
      "source": [
        "x_train_lab_4classes = x_train_lab.copy()\n"
      ],
      "metadata": {
        "id": "mF99uVoMX9Nx"
      },
      "execution_count": null,
      "outputs": []
    },
    {
      "cell_type": "code",
      "source": [
        "x_train_lab_4classes[x_train_lab_4classes==3] = 0  # ash\n",
        "x_train_lab_4classes[x_train_lab_4classes==4] = 1\n",
        "x_train_lab_4classes[x_train_lab_4classes==5] = 3 # what is qsup - pollen? \n",
        "x_train_lab_4classes[x_train_lab_4classes==6] = 0\n",
        "\n",
        "len_labels = 4"
      ],
      "metadata": {
        "id": "OW8voMSvYKha"
      },
      "execution_count": null,
      "outputs": []
    },
    {
      "cell_type": "code",
      "source": [
        "\n"
      ],
      "metadata": {
        "id": "ATbD0miQYKiz"
      },
      "execution_count": null,
      "outputs": []
    },
    {
      "cell_type": "code",
      "source": [
        "latent_dim = 64\n",
        "image_size= 128\n",
        "unit_n = 32\n",
        "\n",
        "encoder_input = keras.Input(shape=(image_size,image_size,1))\n",
        "x = keras.layers.Conv2D(filters=32, kernel_size=3, strides=(2,2), activation='relu')(encoder_input)\n",
        "x = keras.layers.Conv2D(filters=64, kernel_size=3, strides=(2,2), activation='relu')(x)\n",
        "x = keras.layers.Flatten()(x)\n",
        "encoder_output = keras.layers.Dense(latent_dim)(x)\n",
        "\n",
        "encoder = keras.Model(encoder_input, encoder_output, name='encoder')\n",
        "\n",
        "decoder_input = keras.layers.InputLayer(input_shape=latent_dim)(encoder_output)\n",
        "x = keras.layers.Dense(units=unit_n*unit_n*32, activation=tf.nn.relu)(decoder_input)\n",
        "x = keras.layers.Reshape(target_shape=(unit_n, unit_n, 32))(x)\n",
        "x = keras.layers.Conv2DTranspose(\n",
        "    filters=64, kernel_size=3, strides=2, padding='same',\n",
        "    activation='relu')(x)\n",
        "x = keras.layers.Conv2DTranspose(\n",
        "    filters=32, kernel_size=3, strides=2, padding='same',\n",
        "    activation='relu')(x)\n",
        "# No activation\n",
        "decoder_output = keras.layers.Conv2DTranspose(\n",
        "    filters=1, kernel_size=3, strides=1, padding='same')(x)\n",
        "\n",
        "autoencoder = keras.Model(encoder_input, decoder_output, name='autoencoder')\n",
        "autoencoder.summary()\n",
        "\n",
        "opt = keras.optimizers.Adam(lr=0.001, decay=1e-6)\n",
        "\n",
        "encoder.compile(opt, loss='mse')\n",
        "autoencoder.compile(opt, loss='mse')"
      ],
      "metadata": {
        "id": "ZLkC2rem4F3K"
      },
      "execution_count": null,
      "outputs": []
    },
    {
      "cell_type": "code",
      "source": [
        "callback = tf.keras.callbacks.EarlyStopping(monitor='val_loss', patience=3, min_delta=0.0001)\n",
        "autoencoder.fit(x_train, x_train, epochs=200, batch_size=32, validation_split=0.1, callbacks=[callback])"
      ],
      "metadata": {
        "id": "tgjgVvCk4lMQ"
      },
      "execution_count": null,
      "outputs": []
    },
    {
      "cell_type": "code",
      "source": [
        "input_length = len(x_train_feats[0]) + latent_dim\n",
        "dim_last_hidden = 128\n",
        "\n",
        "dense_input = keras.Input(shape=(input_length))\n",
        "x = keras.layers.Dense(128, activation='relu')(dense_input)\n",
        "x = keras.layers.Dropout(0.2)(x)\n",
        "x = keras.layers.BatchNormalization(momentum=0.9, center=True, scale=True)(x)\n",
        "x = keras.layers.Dense(128*2, activation='relu')(x)\n",
        "x = keras.layers.Dropout(0.2)(x)\n",
        "x = keras.layers.BatchNormalization(momentum=0.9, center=True, scale=True)(x)\n",
        "last_hidden = keras.layers.Dense(dim_last_hidden, activation='relu')(x)\n",
        "\n",
        "\n",
        "dense2_input = keras.layers.InputLayer(input_shape=dim_last_hidden)(last_hidden)\n",
        "x = keras.layers.Dropout(0.2)(dense2_input)\n",
        "x = keras.layers.BatchNormalization(momentum=0.9, center=True, scale=True)(x)\n",
        "dense_output = keras.layers.Dense(7, activation='softmax')(x)\n",
        "\n",
        "last_hidden_model = keras.Model(dense_input, last_hidden, name='mellem_model')\n",
        "dense_model = keras.Model(dense_input, dense_output, name='dense_model')\n",
        "\n",
        "dense_model.summary()\n",
        "\n",
        "opt = keras.optimizers.Adam(lr=0.001, decay=1e-6)\n",
        "\n",
        "last_hidden_model.compile(opt, loss='SparseCategoricalCrossentropy', metrics=['accuracy'])\n",
        "dense_model.compile(opt, loss='SparseCategoricalCrossentropy', metrics=['accuracy'])\n"
      ],
      "metadata": {
        "id": "8cAmn3olbxCy"
      },
      "execution_count": null,
      "outputs": []
    },
    {
      "cell_type": "code",
      "source": [
        "n_epochs = 200\n",
        "batch_size = 20\n",
        "callback = tf.keras.callbacks.EarlyStopping(monitor='val_loss', patience = 3, min_delta = 0.0001)\n",
        "\n",
        "encode_scalars = np.concatenate((encoder.predict(x_train),x_train_feats), axis=1)\n",
        "\n",
        "history = dense_model.fit(encode_scalars,x_train_lab,validation_split=0.2,batch_size=batch_size, epochs= n_epochs, callbacks=[callback])"
      ],
      "metadata": {
        "id": "ZlLTGMHl7F0z",
        "colab": {
          "base_uri": "https://localhost:8080/"
        },
        "outputId": "39b286c2-22e8-47c9-bd44-0d5c440edf25"
      },
      "execution_count": null,
      "outputs": [
        {
          "output_type": "stream",
          "name": "stdout",
          "text": [
            "INFO:tensorflow:Assets written to: encoder/assets\n"
          ]
        }
      ]
    },
    {
      "cell_type": "code",
      "source": [
        "y_last_hid = last_hidden_model.predict(encode_scalars)\n",
        "\n",
        "map = umap.UMAP(n_components=2) #x and y axis\n",
        "y = map.fit_transform(y_last_hid)\n",
        "\n",
        "plt.figure()\n",
        "sb.scatterplot(x=y[:, 0], y=y[:, 1], hue = x_train_lab, palette = 'tab10')\n",
        "plt.show()"
      ],
      "metadata": {
        "id": "J-RegbPkB5U6"
      },
      "execution_count": null,
      "outputs": []
    }
  ]
}